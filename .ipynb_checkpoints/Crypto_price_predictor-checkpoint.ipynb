{
 "cells": [
  {
   "cell_type": "code",
   "execution_count": 1,
   "metadata": {},
   "outputs": [
    {
     "name": "stderr",
     "output_type": "stream",
     "text": [
      "C:\\Users\\keyur_donga\\Anaconda3\\lib\\site-packages\\statsmodels\\compat\\pandas.py:56: FutureWarning: The pandas.core.datetools module is deprecated and will be removed in a future version. Please use the pandas.tseries module instead.\n",
      "  from pandas.core import datetools\n"
     ]
    }
   ],
   "source": [
    "from __future__ import print_function\n",
    "%matplotlib inline\n",
    "import pandas as pd\n",
    "import matplotlib.pyplot as plt\n",
    "import numpy as np\n",
    "from scipy import stats\n",
    "import seaborn as sns\n",
    "import statsmodels.api as sm\n",
    "from sklearn import linear_model\n",
    "from statsmodels.formula.api import ols\n",
    "from sklearn.linear_model import LinearRegression, Ridge, Lasso\n",
    "from sklearn.preprocessing import PolynomialFeatures\n",
    "from sklearn.pipeline import make_pipeline\n",
    "import warnings\n",
    "import requests\n",
    "import json\n",
    "from time import sleep\n",
    "import datetime\n",
    "\n",
    "from datetime import datetime, date, time \n",
    "warnings.filterwarnings('ignore')"
   ]
  },
  {
   "cell_type": "code",
   "execution_count": 2,
   "metadata": {
    "collapsed": true
   },
   "outputs": [],
   "source": [
    "with open('tweets-23-04.json') as json_data1:\n",
    "    jdata1 = json.load(json_data1)\n",
    "    dfall = pd.DataFrame(jdata1)"
   ]
  },
  {
   "cell_type": "code",
   "execution_count": 3,
   "metadata": {},
   "outputs": [
    {
     "name": "stdout",
     "output_type": "stream",
     "text": [
      "<class 'pandas.core.frame.DataFrame'>\n",
      "RangeIndex: 95701 entries, 0 to 95700\n",
      "Data columns (total 10 columns):\n",
      "created_at                  95701 non-null object\n",
      "favourite_count             95701 non-null object\n",
      "language                    95701 non-null object\n",
      "retweet_count               95701 non-null object\n",
      "tweet                       95701 non-null object\n",
      "tweet_id                    95701 non-null object\n",
      "tweet_time                  95701 non-null object\n",
      "user_id                     95701 non-null object\n",
      "Sentiment_score             95701 non-null float64\n",
      "weighted_sentiment_score    95701 non-null float64\n",
      "dtypes: float64(2), object(8)\n",
      "memory usage: 7.3+ MB\n"
     ]
    }
   ],
   "source": [
    "dfall['Sentiment_score'] = 0.0\n",
    "dfall['weighted_sentiment_score'] = 0.0\n",
    "dfall.info()\n",
    "df = dfall"
   ]
  },
  {
   "cell_type": "code",
   "execution_count": 4,
   "metadata": {},
   "outputs": [
    {
     "data": {
      "text/plain": [
       "count     95701.000000\n",
       "mean       1175.323570\n",
       "std        3900.686471\n",
       "min          20.000000\n",
       "25%          79.000000\n",
       "50%         242.000000\n",
       "75%         649.000000\n",
       "max      338626.000000\n",
       "Name: retweet_count, dtype: float64"
      ]
     },
     "execution_count": 4,
     "metadata": {},
     "output_type": "execute_result"
    }
   ],
   "source": [
    "dfall = df\n",
    "dfall['retweet_count'] = pd.to_numeric(dfall['retweet_count'])\n",
    "dfall['favourite_count'] = pd.to_numeric(dfall['favourite_count'])\n",
    "dfall['tweet_id'] = pd.to_numeric(dfall['tweet_id'])\n",
    "dfall['user_id'] = pd.to_numeric(dfall['user_id'])\n",
    "dfall['created_at'] = pd.to_datetime(dfall['created_at'])\n",
    "dfall['tweet_time'] = pd.to_datetime(dfall['tweet_time'])\n",
    "dfall = dfall[dfall.retweet_count  >= 20]\n",
    "dfall['retweet_count'].describe()"
   ]
  },
  {
   "cell_type": "code",
   "execution_count": 5,
   "metadata": {},
   "outputs": [
    {
     "name": "stdout",
     "output_type": "stream",
     "text": [
      "<class 'pandas.core.frame.DataFrame'>\n",
      "Int64Index: 95701 entries, 0 to 95700\n",
      "Data columns (total 10 columns):\n",
      "created_at                  95701 non-null datetime64[ns]\n",
      "favourite_count             95701 non-null int64\n",
      "language                    95701 non-null object\n",
      "retweet_count               95701 non-null int64\n",
      "tweet                       95701 non-null object\n",
      "tweet_id                    95701 non-null int64\n",
      "tweet_time                  95701 non-null datetime64[ns]\n",
      "user_id                     95701 non-null int64\n",
      "Sentiment_score             95701 non-null float64\n",
      "weighted_sentiment_score    95701 non-null float64\n",
      "dtypes: datetime64[ns](2), float64(2), int64(4), object(2)\n",
      "memory usage: 8.0+ MB\n"
     ]
    }
   ],
   "source": [
    "#dfall.tweet_time = dfall.tweet_time.dt.date\n",
    "dfall.info()"
   ]
  },
  {
   "cell_type": "code",
   "execution_count": 6,
   "metadata": {
    "collapsed": true
   },
   "outputs": [],
   "source": [
    "temp = dfall\n",
    "temp.tweet_time = temp.tweet_time.dt.date"
   ]
  },
  {
   "cell_type": "code",
   "execution_count": 34,
   "metadata": {},
   "outputs": [],
   "source": [
    "#import plotly.plotly as py\n",
    "#import plotly.graph_objs as go\n",
    "\n",
    "# Add data\n",
    "month = ['2017-11-25', '2017-11-26', '2017-11-27', '2017-11-28', '2017-11-29', '2017-11-30', '2017-12-01',\n",
    "         '2017-12-02', '2017-12-03']\n",
    "dates_list = [datetime.strptime(date, '%Y-%m-%d').date() for date in month]\n",
    "Bitcoin = [0, 0, 0, 0, 0, 0, 0, 0, 0]\n",
    "Litecoin = [0, 0, 0, 0, 0, 0, 0, 0, 0]\n",
    "Ethereum = [0, 0, 0, 0, 0, 0, 0, 0, 0]\n",
    "Ripple = [0, 0, 0, 0, 0, 0, 0, 0, 0]\n",
    "\n",
    "count_m = len(month)\n",
    "for i in range(0, count_m):\n",
    "    mask = (temp['tweet_time'] == dates_list[i])\n",
    "    temp_bit = temp.loc[mask]\n",
    "    temp_bit.tweet = temp_bit.tweet.str.lower()\n",
    "    Bitcoin[i] = len(temp_bit[temp_bit['tweet'].str.contains('bitcoin') | temp_bit['tweet'].str.contains('btc')])\n",
    "    \n",
    "    Litecoin[i] = len(temp_bit[temp_bit['tweet'].str.contains('litecoin') | temp_bit['tweet'].str.contains('ltc')])\n",
    "    \n",
    "    Ethereum[i] = len(temp_bit[temp_bit['tweet'].str.contains('ethereum') | temp_bit['tweet'].str.contains('eth') | temp_bit['tweet'].str.contains('ether')])\n",
    "    \n",
    "    Ripple[i] = len(temp_bit[temp_bit['tweet'].str.contains('ripple') | temp_bit['tweet'].str.contains('xrp')])\n",
    "    "
   ]
  },
  {
   "cell_type": "code",
   "execution_count": 55,
   "metadata": {},
   "outputs": [
    {
     "name": "stdout",
     "output_type": "stream",
     "text": [
      "[1928, 83, 2831, 4886, 5032, 7437, 5270, 4541, 4379]\n",
      "[812, 30, 1041, 985, 1137, 2381, 1422, 1788, 1689]\n",
      "[1320, 47, 1713, 2639, 3017, 3421, 3126, 3371, 3011]\n",
      "[328, 17, 894, 1238, 843, 1443, 1151, 1167, 1032]\n"
     ]
    }
   ],
   "source": [
    "print(Bitcoin)\n",
    "print(Litecoin)\n",
    "print(Ethereum)\n",
    "print(Ripple)"
   ]
  },
  {
   "cell_type": "code",
   "execution_count": 52,
   "metadata": {},
   "outputs": [
    {
     "name": "stdout",
     "output_type": "stream",
     "text": [
      "2.2.3\n"
     ]
    },
    {
     "data": {
      "text/plain": [
       "'file://C:\\\\Users\\\\keyur_donga\\\\Sentiment-data\\\\temp-plot.html'"
      ]
     },
     "execution_count": 52,
     "metadata": {},
     "output_type": "execute_result"
    }
   ],
   "source": [
    "import plotly\n",
    "print(plotly.__version__)  # version >1.9.4 required\n",
    "from plotly.graph_objs import Scatter, Layout\n",
    "plotly.offline.plot({\n",
    "\"data\": [\n",
    "    Scatter(\n",
    "    x = month,\n",
    "    y = Bitcoin,\n",
    "    name = 'Bitcoin',\n",
    "    line = dict(\n",
    "        color = ('rgb(226, 146, 24)'),\n",
    "        width = 4,\n",
    "        dash = 'dash')\n",
    "    ),\n",
    "    Scatter(\n",
    "    x = month,\n",
    "    y = Litecoin,\n",
    "    name = 'Litecoin',\n",
    "    line = dict(\n",
    "        color = ('rgb(154, 153, 155)'),\n",
    "        width = 4,\n",
    "        dash = 'dash')\n",
    "    ),\n",
    "    Scatter(\n",
    "    x = month,\n",
    "    y = Ethereum,\n",
    "    name = 'Ethereum',\n",
    "    line = dict(\n",
    "        color = ('rgb(11, 20, 114)'),\n",
    "        width = 4,\n",
    "        dash = 'dash')\n",
    "    ),\n",
    "    Scatter(\n",
    "    x = month,\n",
    "    y = Ripple,\n",
    "    name = 'Ripple',\n",
    "    line = dict(\n",
    "        color = ('rgb(23, 114, 226)'),\n",
    "        width = 4,\n",
    "        dash = 'dash')\n",
    "    )    \n",
    "],\n",
    "\"layout\": Layout(\n",
    "      title = 'Tweets data per day of given crypto currencies',\n",
    "      xaxis = dict(title = 'Dates'),\n",
    "      yaxis = dict(title = 'Tweets(count)')\n",
    ")\n",
    "})"
   ]
  },
  {
   "cell_type": "code",
   "execution_count": 56,
   "metadata": {},
   "outputs": [
    {
     "data": {
      "text/html": [
       "<div>\n",
       "<style>\n",
       "    .dataframe thead tr:only-child th {\n",
       "        text-align: right;\n",
       "    }\n",
       "\n",
       "    .dataframe thead th {\n",
       "        text-align: left;\n",
       "    }\n",
       "\n",
       "    .dataframe tbody tr th {\n",
       "        vertical-align: top;\n",
       "    }\n",
       "</style>\n",
       "<table border=\"1\" class=\"dataframe\">\n",
       "  <thead>\n",
       "    <tr style=\"text-align: right;\">\n",
       "      <th></th>\n",
       "      <th>created_at</th>\n",
       "      <th>favourite_count</th>\n",
       "      <th>language</th>\n",
       "      <th>retweet_count</th>\n",
       "      <th>tweet</th>\n",
       "      <th>tweet_id</th>\n",
       "      <th>tweet_time</th>\n",
       "      <th>user_id</th>\n",
       "      <th>Sentiment_score</th>\n",
       "      <th>weighted_sentiment_score</th>\n",
       "    </tr>\n",
       "  </thead>\n",
       "  <tbody>\n",
       "    <tr>\n",
       "      <th>0</th>\n",
       "      <td>2017-11-28 14:54:22</td>\n",
       "      <td>0</td>\n",
       "      <td>en</td>\n",
       "      <td>608</td>\n",
       "      <td>RT @Cointelegraph: #CT_index provided by The C...</td>\n",
       "      <td>934572394693513216</td>\n",
       "      <td>2017-11-25</td>\n",
       "      <td>2743037434</td>\n",
       "      <td>0.0</td>\n",
       "      <td>0.0</td>\n",
       "    </tr>\n",
       "    <tr>\n",
       "      <th>1</th>\n",
       "      <td>2017-11-28 14:56:27</td>\n",
       "      <td>0</td>\n",
       "      <td>en</td>\n",
       "      <td>9181</td>\n",
       "      <td>RT @JonErlichman: Things that did not exist on...</td>\n",
       "      <td>934572392881455104</td>\n",
       "      <td>2017-11-25</td>\n",
       "      <td>14083360</td>\n",
       "      <td>0.0</td>\n",
       "      <td>0.0</td>\n",
       "    </tr>\n",
       "    <tr>\n",
       "      <th>2</th>\n",
       "      <td>2017-11-28 14:56:27</td>\n",
       "      <td>0</td>\n",
       "      <td>en</td>\n",
       "      <td>77</td>\n",
       "      <td>RT @mBTCPizpie: Everything up except for Bcash...</td>\n",
       "      <td>934572385738432512</td>\n",
       "      <td>2017-11-25</td>\n",
       "      <td>918524652800049152</td>\n",
       "      <td>0.0</td>\n",
       "      <td>0.0</td>\n",
       "    </tr>\n",
       "    <tr>\n",
       "      <th>3</th>\n",
       "      <td>2017-11-28 14:56:27</td>\n",
       "      <td>0</td>\n",
       "      <td>en</td>\n",
       "      <td>74</td>\n",
       "      <td>RT @piratebeachbum: Best bitcoin investing str...</td>\n",
       "      <td>934572377530302464</td>\n",
       "      <td>2017-11-25</td>\n",
       "      <td>933620892541771776</td>\n",
       "      <td>0.0</td>\n",
       "      <td>0.0</td>\n",
       "    </tr>\n",
       "    <tr>\n",
       "      <th>4</th>\n",
       "      <td>2017-11-28 14:56:27</td>\n",
       "      <td>0</td>\n",
       "      <td>en</td>\n",
       "      <td>217</td>\n",
       "      <td>RT @silkdynastystx: Amazon has almost no store...</td>\n",
       "      <td>934572360417579009</td>\n",
       "      <td>2017-11-25</td>\n",
       "      <td>1668342847</td>\n",
       "      <td>0.0</td>\n",
       "      <td>0.0</td>\n",
       "    </tr>\n",
       "  </tbody>\n",
       "</table>\n",
       "</div>"
      ],
      "text/plain": [
       "           created_at  favourite_count language  retweet_count  \\\n",
       "0 2017-11-28 14:54:22                0       en            608   \n",
       "1 2017-11-28 14:56:27                0       en           9181   \n",
       "2 2017-11-28 14:56:27                0       en             77   \n",
       "3 2017-11-28 14:56:27                0       en             74   \n",
       "4 2017-11-28 14:56:27                0       en            217   \n",
       "\n",
       "                                               tweet            tweet_id  \\\n",
       "0  RT @Cointelegraph: #CT_index provided by The C...  934572394693513216   \n",
       "1  RT @JonErlichman: Things that did not exist on...  934572392881455104   \n",
       "2  RT @mBTCPizpie: Everything up except for Bcash...  934572385738432512   \n",
       "3  RT @piratebeachbum: Best bitcoin investing str...  934572377530302464   \n",
       "4  RT @silkdynastystx: Amazon has almost no store...  934572360417579009   \n",
       "\n",
       "   tweet_time             user_id  Sentiment_score  weighted_sentiment_score  \n",
       "0  2017-11-25          2743037434              0.0                       0.0  \n",
       "1  2017-11-25            14083360              0.0                       0.0  \n",
       "2  2017-11-25  918524652800049152              0.0                       0.0  \n",
       "3  2017-11-25  933620892541771776              0.0                       0.0  \n",
       "4  2017-11-25          1668342847              0.0                       0.0  "
      ]
     },
     "execution_count": 56,
     "metadata": {},
     "output_type": "execute_result"
    }
   ],
   "source": [
    "dfall.head()"
   ]
  },
  {
   "cell_type": "markdown",
   "metadata": {},
   "source": [
    "base = \"https://language.googleapis.com\"\n",
    "#count_n = 0\n",
    "dfLen = len(dfall)-1\n",
    "print(\"start\")\n",
    "for i in range(0, dfLen):\n",
    "    while(count_n < dfLen):\n",
    "        text1 = dfall.at[count_n,'tweet']\n",
    "\n",
    "        doc = {\"type\": \"PLAIN_TEXT\", \"language\": \"EN\", \"content\": text1 }\n",
    "\n",
    "        req_data = {\"document\": doc , \"encodingType\": \"UTF8\"}\n",
    "\n",
    "        analysis_endpoint = \"/v1/documents:analyzeSentiment\"\n",
    "\n",
    "        analysis_url = base + analysis_endpoint + \"?fields=documentSentiment%2Csentences&keyAI=zaSyDDLAmITa6bjSWn_O_fmmOYnjp_5MXnW00&alt=json\" \n",
    "\n",
    "        #response = requests.post(analysis_url, data=json.dumps(req_data))\n",
    "\n",
    "        analysis_results = json.loads(response.text)\n",
    "\n",
    "        #print(json.dumps(analysis_results, indent=4))\n",
    "        \n",
    "        dfall.ix[count_n, 'Sentiment_score'] = analysis_results[\"documentSentiment\"][\"score\"]\n",
    "        \n",
    "        #sleep(0.2)\n",
    "        \n",
    "        count_n += 1\n",
    "        \n",
    "        print(count_n)\n",
    "\n",
    "print(\"done\")"
   ]
  },
  {
   "cell_type": "code",
   "execution_count": null,
   "metadata": {
    "collapsed": true
   },
   "outputs": [],
   "source": [
    "dfall.to_csv('Sentiment-03.csv', sep=',', encoding='utf-8')"
   ]
  },
  {
   "cell_type": "code",
   "execution_count": null,
   "metadata": {},
   "outputs": [],
   "source": [
    "crypto = pd.read_csv(\"Sentiment-03.csv\", sep=',')\n",
    "crypto.drop('Unnamed: 0', axis=1, inplace=True)\n",
    "crypto.drop('weighted_sentiment_score', axis=1, inplace=True)\n",
    "crypto['w_sentiment_score'] = 0.0\n",
    "crypto = crypto[np.isfinite(crypto['retweet_count'])]\n",
    "crypto['retweet_count'] = crypto['retweet_count'].astype(int)\n",
    "crypto = crypto.reset_index(drop=True)\n",
    "crypto.info()"
   ]
  },
  {
   "cell_type": "code",
   "execution_count": null,
   "metadata": {},
   "outputs": [],
   "source": [
    "count_n = 0\n",
    "dfLen = len(crypto)\n",
    "print(\"start\")\n",
    "for i in range(0, dfLen):\n",
    "    while(count_n < dfLen):\n",
    "        #print(count_n)\n",
    "        if(crypto.ix[count_n, 'retweet_count'] >= 3000):\n",
    "            if(crypto.ix[count_n, 'Sentiment_score'] > 0):\n",
    "                crypto.ix[count_n, 'w_sentiment_score'] = (crypto.ix[count_n, 'Sentiment_score'] + 1 )/2\n",
    "            elif(crypto.ix[count_n, 'Sentiment_score'] < 0):\n",
    "                crypto.ix[count_n, 'w_sentiment_score'] = (crypto.ix[count_n, 'Sentiment_score'] - 1 )/2\n",
    "            else:\n",
    "                crypto.ix[count_n, 'w_sentiment_score'] = 0\n",
    "        elif(crypto.ix[count_n, 'retweet_count'] < 3000 & crypto.ix[count_n, 'retweet_count'] >= 500):\n",
    "            if(crypto.ix[count_n, 'Sentiment_score'] > 0):\n",
    "                crypto.ix[count_n, 'w_sentiment_score'] = (crypto.ix[count_n, 'Sentiment_score'] + 0.75 )/2\n",
    "            elif(crypto.ix[count_n, 'Sentiment_score'] < 0):\n",
    "                crypto.ix[count_n, 'w_sentiment_score'] = (crypto.ix[count_n, 'Sentiment_score'] - 0.75 )/2\n",
    "            else:\n",
    "                crypto.ix[count_n, 'w_sentiment_score'] = 0\n",
    "        elif(crypto.ix[count_n, 'retweet_count'] < 500 & crypto.ix[count_n, 'retweet_count'] >= 200):\n",
    "            if(crypto.ix[count_n, 'Sentiment_score'] > 0):\n",
    "                crypto.ix[count_n, 'w_sentiment_score'] = (crypto.ix[count_n, 'Sentiment_score'] + 0.5 )/2\n",
    "            elif(crypto.ix[count_n, 'Sentiment_score'] < 0):\n",
    "                crypto.ix[count_n, 'w_sentiment_score'] = (crypto.ix[count_n, 'Sentiment_score'] - 0.5 )/2\n",
    "            else:\n",
    "                crypto.ix[count_n, 'w_sentiment_score'] = 0\n",
    "        else:\n",
    "            if(crypto.ix[count_n, 'Sentiment_score'] > 0):\n",
    "                crypto.ix[count_n, 'w_sentiment_score'] = (crypto.ix[count_n, 'Sentiment_score'] + 0.25 )/2\n",
    "            elif(crypto.ix[count_n, 'Sentiment_score'] < 0):\n",
    "                crypto.ix[count_n, 'w_sentiment_score'] = (crypto.ix[count_n, 'Sentiment_score'] - 0.25 )/2\n",
    "            else:\n",
    "                crypto.ix[count_n, 'w_sentiment_score'] = 0\n",
    "        count_n +=1"
   ]
  },
  {
   "cell_type": "code",
   "execution_count": null,
   "metadata": {},
   "outputs": [],
   "source": [
    "print(crypto)\n",
    "crypto.to_csv('WSentiment-03.csv', sep=',', encoding='utf-8')"
   ]
  },
  {
   "cell_type": "code",
   "execution_count": null,
   "metadata": {},
   "outputs": [],
   "source": [
    "eth = pd.read_csv(\"Ether-chart.csv\", sep=',')\n",
    "eth['date'] = ' '\n",
    "eth.info()\n",
    "#eth['close'] = eth['close'].astype('float64') "
   ]
  },
  {
   "cell_type": "code",
   "execution_count": null,
   "metadata": {
    "collapsed": true
   },
   "outputs": [],
   "source": [
    "count_n = 0\n",
    "ethlen = len(eth)-1\n",
    "print(\"start ETH\")\n",
    "for i in range(0, ethlen):\n",
    "    while(count_n < ethlen):\n",
    "        temp = eth.ix[count_n, 'time'] \n",
    "        if(eth.ix[count_n, ' open'] - eth.ix[count_n, 'close'] > 0):\n",
    "            eth.ix[count_n, 'fluctuation'] = -1\n",
    "        elif(eth.ix[count_n, ' open'] - eth.ix[count_n, 'close'] < 0):\n",
    "            eth.ix[count_n, 'fluctuation'] = 1\n",
    "        else:\n",
    "            eth.ix[count_n, 'fluctuation'] = 0\n",
    "        count_n += 1\n",
    "        eth.ix[count_n, 'date'] = str(datetime.datetime.fromtimestamp(\n",
    "                                        int(temp)\n",
    "                                    ).strftime('%Y-%m-%d %H:%M:%S'))\n",
    "\n",
    "print(\"end ETH\")"
   ]
  },
  {
   "cell_type": "code",
   "execution_count": null,
   "metadata": {
    "collapsed": true
   },
   "outputs": [],
   "source": [
    "eth.to_csv('ethh.csv', sep=',')"
   ]
  },
  {
   "cell_type": "code",
   "execution_count": null,
   "metadata": {
    "collapsed": true
   },
   "outputs": [],
   "source": [
    "df1 = pd.read_csv(\"WSentiment-01.csv\", sep=',')\n",
    "df2 = pd.read_csv(\"WSentiment-02.csv\", sep=',')\n",
    "df3 = pd.read_csv(\"WSentiment-03.csv\", sep=',')\n",
    "df26 = pd.read_csv(\"WSentiment-26.csv\", sep=',')\n",
    "df27 = pd.read_csv(\"WSentiment-27.csv\", sep=',')\n",
    "df28 = pd.read_csv(\"WSentiment-28.csv\", sep=',')\n",
    "df29 = pd.read_csv(\"WSentiment-29.csv\", sep=',')\n",
    "df30 = pd.read_csv(\"WSentiment-30.csv\", sep=',')"
   ]
  },
  {
   "cell_type": "code",
   "execution_count": null,
   "metadata": {
    "collapsed": true
   },
   "outputs": [],
   "source": [
    "frames = [df26, df27, df28, df29, df30, df1, df2, df3]\n",
    "df = pd.concat(frames)\n",
    "df.drop('Unnamed: 0', axis=1, inplace=True)\n",
    "df.drop('user_id', axis=1, inplace=True)\n",
    "df.info()"
   ]
  },
  {
   "cell_type": "code",
   "execution_count": null,
   "metadata": {
    "collapsed": true
   },
   "outputs": [],
   "source": [
    "bitcoin = df[df['tweet'].str.contains(\"bitcoin\") | df['tweet'].str.contains(\"btc\") | df['tweet'].str.contains(\"BTC\")]\n",
    "bitcoin = bitcoin.reset_index(drop=True)\n",
    "bitcoin.info()"
   ]
  },
  {
   "cell_type": "code",
   "execution_count": null,
   "metadata": {
    "collapsed": true
   },
   "outputs": [],
   "source": [
    "ether = df[df['tweet'].str.contains(\"Ethereum\") | df['tweet'].str.contains(\"eth\") | df['tweet'].str.contains(\"ETH\")]\n",
    "ether = ether.reset_index(drop=True)\n",
    "ether.info()"
   ]
  },
  {
   "cell_type": "code",
   "execution_count": null,
   "metadata": {
    "collapsed": true
   },
   "outputs": [],
   "source": [
    "lite = df[df['tweet'].str.contains(\"Litecoin\") | df['tweet'].str.contains(\"ltc\") | df['tweet'].str.contains(\"LTC\")]\n",
    "lite = lite.reset_index(drop=True)\n",
    "lite.info()"
   ]
  },
  {
   "cell_type": "code",
   "execution_count": null,
   "metadata": {
    "collapsed": true
   },
   "outputs": [],
   "source": [
    "ripple = df[df['tweet'].str.contains(\"ripple\") | df['tweet'].str.contains(\"Ripple\") | df['tweet'].str.contains(\"XRP\")]\n",
    "ripple = ripple.reset_index(drop=True)\n",
    "ripple.info()"
   ]
  },
  {
   "cell_type": "code",
   "execution_count": null,
   "metadata": {
    "collapsed": true
   },
   "outputs": [],
   "source": [
    "bitc = pd.read_csv(\"btc.csv\", sep=',')\n",
    "bitc.drop('Unnamed: 0', axis=1, inplace=True)\n",
    "bitc['sentiment'] = 0.0\n",
    "bitc['w_sentiment'] = 0.0\n",
    "bitc['date'] = pd.to_datetime(bitc['date'])\n",
    "ethc = pd.read_csv(\"eth.csv\", sep=',')\n",
    "ethc.drop('Unnamed: 0', axis=1, inplace=True)\n",
    "ethc['sentiment'] = 0.0\n",
    "ethc['w_sentiment'] = 0.0\n",
    "ethc['date'] = pd.to_datetime(ethc['date'])\n",
    "ltcc = pd.read_csv(\"ltc.csv\", sep=',')\n",
    "ltcc.drop('Unnamed: 0', axis=1, inplace=True)\n",
    "ltcc['sentiment'] = 0.0\n",
    "ltcc['w_sentiment'] = 0.0\n",
    "ltcc['date'] = pd.to_datetime(ltcc['date'])\n",
    "ripc = pd.read_csv(\"rp.csv\", sep=',')\n",
    "ripc.drop('Unnamed: 0', axis=1, inplace=True)\n",
    "ripc['sentiment'] = 0.0\n",
    "ripc['w_sentiment'] = 0.0\n",
    "ripc['date'] = pd.to_datetime(ripc['date'])\n",
    "bitc.info()"
   ]
  },
  {
   "cell_type": "code",
   "execution_count": null,
   "metadata": {
    "collapsed": true
   },
   "outputs": [],
   "source": [
    "print(bitc)"
   ]
  },
  {
   "cell_type": "code",
   "execution_count": null,
   "metadata": {
    "collapsed": true
   },
   "outputs": [],
   "source": [
    "a = 0\n",
    "b = 1\n",
    "while(b<168):\n",
    "    mask = (ether['tweet_time'] <= str(ethc.ix[b, 'date']) ) & (ether['tweet_time'] >= str(ethc.ix[a, 'date']))\n",
    "    ether13 = ether.loc[mask]\n",
    "    count_n = 0\n",
    "    sentimentPTotal = 0 \n",
    "    wSentimentPTotal = 0 \n",
    "    sentimentNTotal = 0 \n",
    "    wSentimentNTotal = 0 \n",
    "    dfLen = len(ether13)\n",
    "    posLen = 0\n",
    "    negLen = 0\n",
    "    print(\"start\")\n",
    "    if(dfLen > 0):\n",
    "        for i in range(0, dfLen):\n",
    "            while(count_n < dfLen):\n",
    "                if(ether.ix[count_n, 'Sentiment_score'] > 0):\n",
    "                    sentimentPTotal += ether.ix[count_n, 'Sentiment_score']\n",
    "                    wSentimentPTotal += ether.ix[count_n, 'w_sentiment_score']\n",
    "                    posLen = posLen + 1\n",
    "                else:\n",
    "                    sentimentNTotal += ether.ix[count_n, 'Sentiment_score']\n",
    "                    wSentimentNTotal += ether.ix[count_n, 'w_sentiment_score']\n",
    "                    negLen = negLen + 1\n",
    "                count_n +=1\n",
    "        print(\"end\")\n",
    "        if(posLen > 0):\n",
    "            sentimentAvg = sentimentPTotal/(posLen)\n",
    "            wSentimentAvg = wSentimentPTotal/(posLen)\n",
    "        else:\n",
    "            sentimentAvg = 0.0\n",
    "            wSentimentAvg = 0.0\n",
    "        \n",
    "        if(negLen > 0):\n",
    "            sentimentAvg = sentimentAvg + sentimentNTotal/(negLen)\n",
    "            wSentimentAvg = wSentimentAvg + wSentimentNTotal/(negLen)   \n",
    "            \n",
    "        print(sentimentAvg)\n",
    "        print(wSentimentAvg)\n",
    "        ethc.ix[a, 'sentiment'] = sentimentAvg\n",
    "        ethc.ix[a, 'w_sentiment_score'] = wSentimentAvg\n",
    "    else:\n",
    "        ethc.ix[a, 'sentiment'] = 0.0\n",
    "        ethc.ix[a, 'w_sentiment_score'] = 0.0\n",
    "    a = a + 1\n",
    "    b = a + 1\n",
    "    \n",
    "print(\"end while\")"
   ]
  },
  {
   "cell_type": "code",
   "execution_count": null,
   "metadata": {
    "collapsed": true
   },
   "outputs": [],
   "source": [
    "ethc = ethc[(ethc.w_sentiment_score != 0.000)]\n",
    "ethc = ethc.reset_index(drop=True)\n",
    "print(ethc)"
   ]
  },
  {
   "cell_type": "code",
   "execution_count": null,
   "metadata": {
    "collapsed": true
   },
   "outputs": [],
   "source": [
    "ethc = ethc[np.isfinite(ethc['w_sentiment_score'])]\n",
    "ethc.info()"
   ]
  },
  {
   "cell_type": "code",
   "execution_count": null,
   "metadata": {
    "collapsed": true
   },
   "outputs": [],
   "source": [
    "a = 0\n",
    "b = 1\n",
    "while(b<166):\n",
    "    mask = (bitcoin['tweet_time'] <= str(bitc.ix[b, 'date']) ) & (bitcoin['tweet_time'] >= str(bitc.ix[a, 'date']))\n",
    "    bitcoin13 = bitcoin.loc[mask]\n",
    "    count_n = 0\n",
    "    sentimentPTotal = 0 \n",
    "    wSentimentPTotal = 0 \n",
    "    sentimentNTotal = 0 \n",
    "    wSentimentNTotal = 0 \n",
    "    dfLen = len(bitcoin13)\n",
    "    posLen = 0\n",
    "    negLen = 0\n",
    "    print(\"start\")\n",
    "    if(dfLen > 0):\n",
    "        for i in range(0, dfLen):\n",
    "            while(count_n < dfLen):\n",
    "                if(bitcoin.ix[count_n, 'Sentiment_score'] > 0):\n",
    "                    sentimentPTotal += bitcoin.ix[count_n, 'Sentiment_score']\n",
    "                    wSentimentPTotal += bitcoin.ix[count_n, 'w_sentiment_score']\n",
    "                    posLen = posLen + 1\n",
    "                else:\n",
    "                    sentimentNTotal += bitcoin.ix[count_n, 'Sentiment_score']\n",
    "                    wSentimentNTotal += bitcoin.ix[count_n, 'w_sentiment_score']\n",
    "                    negLen = negLen + 1\n",
    "                count_n +=1\n",
    "        print(\"end\")\n",
    "        if(posLen > 0):\n",
    "            sentimentAvg = sentimentPTotal/(posLen)\n",
    "            wSentimentAvg = wSentimentPTotal/(posLen)\n",
    "        else:\n",
    "            sentimentAvg = 0.0\n",
    "            wSentimentAvg = 0.0\n",
    "        \n",
    "        if(negLen > 0):\n",
    "            sentimentAvg = sentimentAvg + sentimentNTotal/(negLen)\n",
    "            wSentimentAvg = wSentimentAvg + wSentimentNTotal/(negLen)   \n",
    "            \n",
    "        print(sentimentAvg)\n",
    "        print(wSentimentAvg)\n",
    "        bitc.ix[a, 'sentiment'] = sentimentAvg\n",
    "        bitc.ix[a, 'w_sentiment_score'] = wSentimentAvg\n",
    "    else:\n",
    "        bitc.ix[a, 'sentiment'] = 0.0\n",
    "        bitc.ix[a, 'w_sentiment_score'] = 0.0\n",
    "    a = a + 1\n",
    "    b = a + 1\n",
    "    \n",
    "print(\"end while\")"
   ]
  },
  {
   "cell_type": "code",
   "execution_count": null,
   "metadata": {
    "collapsed": true
   },
   "outputs": [],
   "source": [
    "bitc = bitc[(bitc.w_sentiment_score != 0.000)]\n",
    "bitc = bitc.reset_index(drop=True)\n",
    "print(bitc)"
   ]
  },
  {
   "cell_type": "code",
   "execution_count": null,
   "metadata": {
    "collapsed": true
   },
   "outputs": [],
   "source": [
    "bitc = bitc[np.isfinite(bitc['w_sentiment_score'])]\n",
    "bitc.info()"
   ]
  },
  {
   "cell_type": "code",
   "execution_count": null,
   "metadata": {
    "collapsed": true
   },
   "outputs": [],
   "source": [
    "a = 0\n",
    "b = 1\n",
    "while(b<166):\n",
    "    mask = (lite['tweet_time'] <= str(ltcc.ix[b, 'date']) ) & (lite['tweet_time'] >= str(ltcc.ix[a, 'date']))\n",
    "    lite13 = lite.loc[mask]\n",
    "    count_n = 0\n",
    "    sentimentPTotal = 0 \n",
    "    wSentimentPTotal = 0 \n",
    "    sentimentNTotal = 0 \n",
    "    wSentimentNTotal = 0 \n",
    "    dfLen = len(lite13)\n",
    "    posLen = 0\n",
    "    negLen = 0\n",
    "    print(\"start\")\n",
    "    if(dfLen > 0):\n",
    "        for i in range(0, dfLen):\n",
    "            while(count_n < dfLen):\n",
    "                if(lite.ix[count_n, 'Sentiment_score'] > 0):\n",
    "                    sentimentPTotal += lite.ix[count_n, 'Sentiment_score']\n",
    "                    wSentimentPTotal += lite.ix[count_n, 'w_sentiment_score']\n",
    "                    posLen = posLen + 1\n",
    "                else:\n",
    "                    sentimentNTotal += lite.ix[count_n, 'Sentiment_score']\n",
    "                    wSentimentNTotal += lite.ix[count_n, 'w_sentiment_score']\n",
    "                    negLen = negLen + 1\n",
    "                count_n +=1\n",
    "        print(\"end\")\n",
    "        if(posLen > 0):\n",
    "            sentimentAvg = sentimentPTotal/(posLen)\n",
    "            wSentimentAvg = wSentimentPTotal/(posLen)\n",
    "        else:\n",
    "            sentimentAvg = 0.0\n",
    "            wSentimentAvg = 0.0\n",
    "        \n",
    "        if(negLen > 0):\n",
    "            sentimentAvg = sentimentAvg + sentimentNTotal/(negLen)\n",
    "            wSentimentAvg = wSentimentAvg + wSentimentNTotal/(negLen)   \n",
    "            \n",
    "        print(sentimentAvg)\n",
    "        print(wSentimentAvg)\n",
    "        ltcc.ix[a, 'sentiment'] = sentimentAvg\n",
    "        ltcc.ix[a, 'w_sentiment_score'] = wSentimentAvg\n",
    "    else:\n",
    "        ltcc.ix[a, 'sentiment'] = 0.0\n",
    "        ltcc.ix[a, 'w_sentiment_score'] = 0.0\n",
    "    a = a + 1\n",
    "    b = a + 1\n",
    "    \n",
    "print(\"end while\")"
   ]
  },
  {
   "cell_type": "code",
   "execution_count": null,
   "metadata": {
    "collapsed": true
   },
   "outputs": [],
   "source": [
    "bitc = bitc[(bitc.w_sentiment_score != 0.000)]\n",
    "bitc = bitc.reset_index(drop=True)\n",
    "print(bitc)"
   ]
  },
  {
   "cell_type": "code",
   "execution_count": null,
   "metadata": {
    "collapsed": true
   },
   "outputs": [],
   "source": [
    "bitc = bitc[np.isfinite(bitc['w_sentiment_score'])]\n",
    "bitc.info()"
   ]
  },
  {
   "cell_type": "code",
   "execution_count": null,
   "metadata": {
    "collapsed": true
   },
   "outputs": [],
   "source": [
    "a = 0\n",
    "b = 1\n",
    "while(b<166):\n",
    "    mask = (ripple['tweet_time'] <= str(ripc.ix[b, 'date']) ) & (ripple['tweet_time'] >= str(ripc.ix[a, 'date']))\n",
    "    ripple13 = ripple.loc[mask]\n",
    "    count_n = 0\n",
    "    sentimentPTotal = 0 \n",
    "    wSentimentPTotal = 0 \n",
    "    sentimentNTotal = 0 \n",
    "    wSentimentNTotal = 0 \n",
    "    dfLen = len(ripple13)\n",
    "    posLen = 0\n",
    "    negLen = 0\n",
    "    print(\"start\")\n",
    "    if(dfLen > 0):\n",
    "        for i in range(0, dfLen):\n",
    "            while(count_n < dfLen):\n",
    "                if(ripple.ix[count_n, 'Sentiment_score'] > 0):\n",
    "                    sentimentPTotal += ripple.ix[count_n, 'Sentiment_score']\n",
    "                    wSentimentPTotal += ripple.ix[count_n, 'w_sentiment_score']\n",
    "                    posLen = posLen + 1\n",
    "                else:\n",
    "                    sentimentNTotal += ripple.ix[count_n, 'Sentiment_score']\n",
    "                    wSentimentNTotal += ripple.ix[count_n, 'w_sentiment_score']\n",
    "                    negLen = negLen + 1\n",
    "                count_n +=1\n",
    "        print(\"end\")\n",
    "        if(posLen > 0):\n",
    "            sentimentAvg = sentimentPTotal/(posLen)\n",
    "            wSentimentAvg = wSentimentPTotal/(posLen)\n",
    "        else:\n",
    "            sentimentAvg = 0.0\n",
    "            wSentimentAvg = 0.0\n",
    "        \n",
    "        if(negLen > 0):\n",
    "            sentimentAvg = sentimentAvg + sentimentNTotal/(negLen)\n",
    "            wSentimentAvg = wSentimentAvg + wSentimentNTotal/(negLen)   \n",
    "            \n",
    "        print(sentimentAvg)\n",
    "        print(wSentimentAvg)\n",
    "        ripc.ix[a, 'sentiment'] = sentimentAvg\n",
    "        ripc.ix[a, 'w_sentiment_score'] = wSentimentAvg\n",
    "    else:\n",
    "        ripc.ix[a, 'sentiment'] = 0.0\n",
    "        ripc.ix[a, 'w_sentiment_score'] = 0.0\n",
    "    a = a + 1\n",
    "    b = a + 1\n",
    "    \n",
    "print(\"end while\")"
   ]
  },
  {
   "cell_type": "code",
   "execution_count": null,
   "metadata": {
    "collapsed": true
   },
   "outputs": [],
   "source": [
    "bitc = bitc[(bitc.w_sentiment_score != 0.000)]\n",
    "bitc = bitc.reset_index(drop=True)\n",
    "print(bitc)"
   ]
  },
  {
   "cell_type": "code",
   "execution_count": null,
   "metadata": {
    "collapsed": true
   },
   "outputs": [],
   "source": [
    "bitc = bitc[np.isfinite(bitc['w_sentiment_score'])]\n",
    "bitc.info()"
   ]
  },
  {
   "cell_type": "code",
   "execution_count": null,
   "metadata": {
    "collapsed": true
   },
   "outputs": [],
   "source": [
    "bitc = bitc[(bitc.w_sentiment_score != 0.000)]\n",
    "bitc = bitc.reset_index(drop=True)\n",
    "bitc = bitc[(bitc.w_sentiment_score != 0.000)]\n",
    "bitc = bitc.reset_index(drop=True)\n",
    "bitc = bitc[(bitc.w_sentiment_score != 0.000)]\n",
    "bitc = bitc.reset_index(drop=True)\n",
    "bitc = bitc[(bitc.w_sentiment_score != 0.000)]\n",
    "bitc = bitc.reset_index(drop=True)\n",
    "print(bitc)"
   ]
  },
  {
   "cell_type": "code",
   "execution_count": null,
   "metadata": {
    "collapsed": true
   },
   "outputs": [],
   "source": [
    "bitc = bitc[np.isfinite(bitc['w_sentiment_score'])]\n",
    "bitc = bitc[np.isfinite(bitc['w_sentiment_score'])]\n",
    "bitc = bitc[np.isfinite(bitc['w_sentiment_score'])]\n",
    "bitc = bitc[np.isfinite(bitc['w_sentiment_score'])]\n",
    "bitc.info()"
   ]
  }
 ],
 "metadata": {
  "kernelspec": {
   "display_name": "Python 3",
   "language": "python",
   "name": "python3"
  },
  "language_info": {
   "codemirror_mode": {
    "name": "ipython",
    "version": 3
   },
   "file_extension": ".py",
   "mimetype": "text/x-python",
   "name": "python",
   "nbconvert_exporter": "python",
   "pygments_lexer": "ipython3",
   "version": "3.6.1"
  }
 },
 "nbformat": 4,
 "nbformat_minor": 2
}
