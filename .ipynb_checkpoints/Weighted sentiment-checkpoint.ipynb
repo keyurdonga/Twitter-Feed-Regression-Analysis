{
 "cells": [
  {
   "cell_type": "code",
   "execution_count": 2,
   "metadata": {},
   "outputs": [],
   "source": [
    "from __future__ import print_function\n",
    "%matplotlib inline\n",
    "import pandas as pd\n",
    "import matplotlib.pyplot as plt\n",
    "import numpy as np\n",
    "from scipy import stats\n",
    "import seaborn as sns\n",
    "import statsmodels.api as sm\n",
    "from sklearn import linear_model\n",
    "from statsmodels.formula.api import ols\n",
    "from sklearn.linear_model import LinearRegression, Ridge, Lasso\n",
    "from sklearn.preprocessing import PolynomialFeatures\n",
    "from sklearn.pipeline import make_pipeline\n",
    "import warnings\n",
    "import requests\n",
    "import json\n",
    "from time import sleep\n",
    "warnings.filterwarnings('ignore')"
   ]
  },
  {
   "cell_type": "code",
   "execution_count": 8,
   "metadata": {},
   "outputs": [
    {
     "name": "stdout",
     "output_type": "stream",
     "text": [
      "<class 'pandas.core.frame.DataFrame'>\n",
      "RangeIndex: 3961 entries, 0 to 3960\n",
      "Data columns (total 10 columns):\n",
      "created_at           3961 non-null object\n",
      "favourite_count      3961 non-null int64\n",
      "language             3961 non-null object\n",
      "retweet_count        3961 non-null int64\n",
      "tweet                3961 non-null object\n",
      "tweet_id             3961 non-null int64\n",
      "tweet_time           3961 non-null object\n",
      "user_id              3961 non-null int64\n",
      "Sentiment_score      3961 non-null float64\n",
      "w_sentiment_score    3961 non-null float64\n",
      "dtypes: float64(2), int64(4), object(4)\n",
      "memory usage: 309.5+ KB\n"
     ]
    }
   ],
   "source": [
    "crypto = pd.read_csv(\"Sentiment-24.csv\", sep=',')\n",
    "crypto.drop('Unnamed: 0', axis=1, inplace=True)\n",
    "crypto['w_sentiment_score'] = 0.0\n",
    "crypto.info()"
   ]
  },
  {
   "cell_type": "code",
   "execution_count": null,
   "metadata": {
    "collapsed": true
   },
   "outputs": [],
   "source": [
    "count_n = 0\n",
    "dfLen = len(crypto)\n",
    "print(\"start\")\n",
    "for i in range(0, dfLen):\n",
    "    while(count_n < dfLen):\n",
    "        if(crypto.ix[count_n, 'retweet_count'] > 3000):\n",
    "            if(crypto.ix[count_n, 'Sentiment_score'] > 0):\n",
    "                crypto.ix[count_n, 'w_sentiment_score'] = (crypto.ix[count_n, 'Sentiment_score'] + 1 )/2\n",
    "            elif(crypto.ix[count_n, 'Sentiment_score'] < 0):\n",
    "                crypto.ix[count_n, 'w_sentiment_score'] = (- crypto.ix[count_n, 'Sentiment_score'] - 1 )/2\n",
    "            else:\n",
    "                crypto.ix[count_n, 'w_sentiment_score'] = 0\n",
    "        elif(crypto.ix[count_n, 'retweet_count'] > 3000):\n",
    "            if(crypto.ix[count_n, 'Sentiment_score'] > 0):\n",
    "                crypto.ix[count_n, 'w_sentiment_score'] = (crypto.ix[count_n, 'Sentiment_score'] + 1 )/2\n",
    "            elif(crypto.ix[count_n, 'Sentiment_score'] < 0):\n",
    "                crypto.ix[count_n, 'w_sentiment_score'] = (- crypto.ix[count_n, 'Sentiment_score'] - 1 )/2\n",
    "            else:\n",
    "                crypto.ix[count_n, 'w_sentiment_score'] = 0\n",
    "        elif(crypto.ix[count_n, 'retweet_count'] > 3000):\n",
    "            if(crypto.ix[count_n, 'Sentiment_score'] > 0):\n",
    "                crypto.ix[count_n, 'w_sentiment_score'] = (crypto.ix[count_n, 'Sentiment_score'] + 1 )/2\n",
    "            elif(crypto.ix[count_n, 'Sentiment_score'] < 0):\n",
    "                crypto.ix[count_n, 'w_sentiment_score'] = (- crypto.ix[count_n, 'Sentiment_score'] - 1 )/2\n",
    "            else:\n",
    "                crypto.ix[count_n, 'w_sentiment_score'] = 0\n",
    "        else:\n",
    "            if(crypto.ix[count_n, 'Sentiment_score'] > 0):\n",
    "                crypto.ix[count_n, 'w_sentiment_score'] = (crypto.ix[count_n, 'Sentiment_score'] + 1 )/2\n",
    "            elif(crypto.ix[count_n, 'Sentiment_score'] < 0):\n",
    "                crypto.ix[count_n, 'w_sentiment_score'] = (- crypto.ix[count_n, 'Sentiment_score'] - 1 )/2\n",
    "            else:\n",
    "                crypto.ix[count_n, 'w_sentiment_score'] = 0\n",
    "                \n",
    "        count_n +=1"
   ]
  }
 ],
 "metadata": {
  "kernelspec": {
   "display_name": "Python 3",
   "language": "python",
   "name": "python3"
  },
  "language_info": {
   "codemirror_mode": {
    "name": "ipython",
    "version": 3
   },
   "file_extension": ".py",
   "mimetype": "text/x-python",
   "name": "python",
   "nbconvert_exporter": "python",
   "pygments_lexer": "ipython3",
   "version": "3.6.1"
  }
 },
 "nbformat": 4,
 "nbformat_minor": 2
}
