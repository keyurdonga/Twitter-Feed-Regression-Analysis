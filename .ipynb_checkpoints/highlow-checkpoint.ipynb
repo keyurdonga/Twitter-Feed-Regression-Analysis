{
 "cells": [
  {
   "cell_type": "code",
   "execution_count": 2,
   "metadata": {},
   "outputs": [
    {
     "name": "stderr",
     "output_type": "stream",
     "text": [
      "C:\\Users\\keyur_donga\\Anaconda3\\lib\\site-packages\\statsmodels\\compat\\pandas.py:56: FutureWarning: The pandas.core.datetools module is deprecated and will be removed in a future version. Please use the pandas.tseries module instead.\n",
      "  from pandas.core import datetools\n"
     ]
    }
   ],
   "source": [
    "from __future__ import print_function\n",
    "%matplotlib inline\n",
    "import pandas as pd\n",
    "import matplotlib.pyplot as plt\n",
    "import numpy as np\n",
    "from scipy import stats\n",
    "import seaborn as sns\n",
    "import statsmodels.api as sm\n",
    "from sklearn import linear_model\n",
    "from statsmodels.formula.api import ols\n",
    "from sklearn.linear_model import LinearRegression, Ridge, Lasso\n",
    "from sklearn.preprocessing import PolynomialFeatures\n",
    "from sklearn.pipeline import make_pipeline\n",
    "import warnings\n",
    "import requests\n",
    "import json\n",
    "from time import sleep\n",
    "warnings.filterwarnings('ignore')"
   ]
  },
  {
   "cell_type": "code",
   "execution_count": 4,
   "metadata": {},
   "outputs": [
    {
     "data": {
      "text/html": [
       "<div>\n",
       "<style>\n",
       "    .dataframe thead tr:only-child th {\n",
       "        text-align: right;\n",
       "    }\n",
       "\n",
       "    .dataframe thead th {\n",
       "        text-align: left;\n",
       "    }\n",
       "\n",
       "    .dataframe tbody tr th {\n",
       "        vertical-align: top;\n",
       "    }\n",
       "</style>\n",
       "<table border=\"1\" class=\"dataframe\">\n",
       "  <thead>\n",
       "    <tr style=\"text-align: right;\">\n",
       "      <th></th>\n",
       "      <th>time</th>\n",
       "      <th>open</th>\n",
       "      <th>close</th>\n",
       "      <th>fluctuation</th>\n",
       "    </tr>\n",
       "  </thead>\n",
       "  <tbody>\n",
       "    <tr>\n",
       "      <th>0</th>\n",
       "      <td>1511416800</td>\n",
       "      <td>381.84</td>\n",
       "      <td>380.05</td>\n",
       "      <td>0</td>\n",
       "    </tr>\n",
       "    <tr>\n",
       "      <th>1</th>\n",
       "      <td>1511420400</td>\n",
       "      <td>380.05</td>\n",
       "      <td>386.70</td>\n",
       "      <td>0</td>\n",
       "    </tr>\n",
       "    <tr>\n",
       "      <th>2</th>\n",
       "      <td>1511424000</td>\n",
       "      <td>386.70</td>\n",
       "      <td>391.36</td>\n",
       "      <td>0</td>\n",
       "    </tr>\n",
       "    <tr>\n",
       "      <th>3</th>\n",
       "      <td>1511427600</td>\n",
       "      <td>391.36</td>\n",
       "      <td>397.08</td>\n",
       "      <td>0</td>\n",
       "    </tr>\n",
       "    <tr>\n",
       "      <th>4</th>\n",
       "      <td>1511431200</td>\n",
       "      <td>397.08</td>\n",
       "      <td>398.89</td>\n",
       "      <td>0</td>\n",
       "    </tr>\n",
       "  </tbody>\n",
       "</table>\n",
       "</div>"
      ],
      "text/plain": [
       "         time    open   close  fluctuation\n",
       "0  1511416800  381.84  380.05            0\n",
       "1  1511420400  380.05  386.70            0\n",
       "2  1511424000  386.70  391.36            0\n",
       "3  1511427600  391.36  397.08            0\n",
       "4  1511431200  397.08  398.89            0"
      ]
     },
     "execution_count": 4,
     "metadata": {},
     "output_type": "execute_result"
    }
   ],
   "source": [
    "eth = pd.read_csv(\"Ether-chart.csv\", sep=',')\n",
    "eth['fluctuation'] = 0\n",
    "eth.head()"
   ]
  },
  {
   "cell_type": "code",
   "execution_count": null,
   "metadata": {
    "collapsed": true
   },
   "outputs": [],
   "source": [
    "btc = pd.read_csv(\"Ether-chart.csv\", sep=',')\n",
    "eth['fluctuation'] = 0\n",
    "eth.head()"
   ]
  },
  {
   "cell_type": "code",
   "execution_count": 13,
   "metadata": {},
   "outputs": [
    {
     "name": "stdout",
     "output_type": "stream",
     "text": [
      "start ETH\n",
      "end ETH\n"
     ]
    }
   ],
   "source": [
    "count_n = 0\n",
    "ethlen = len(eth)-1\n",
    "print(\"start ETH\")\n",
    "for i in range(0, ethlen):\n",
    "    while(count_n < ethlen):\n",
    "        if(eth.ix[count_n, 'Open Price'] - eth.ix[count_n, 'Close Price'] > 0):\n",
    "            eth.ix[count_n, 'fluctuation'] = -1\n",
    "        elif(eth.ix[count_n, 'Open Price'] - eth.ix[count_n, 'Close Price'] < 0):\n",
    "            eth.ix[count_n, 'fluctuation'] = 1\n",
    "        else:\n",
    "            eth.ix[count_n, 'fluctuation'] = 0\n",
    "        count_n += 1\n",
    "\n",
    "print(\"end ETH\")"
   ]
  },
  {
   "cell_type": "code",
   "execution_count": 14,
   "metadata": {},
   "outputs": [
    {
     "name": "stdout",
     "output_type": "stream",
     "text": [
      "start BT\n",
      "end BT\n"
     ]
    }
   ],
   "source": [
    "count_n = 0\n",
    "btlen = len(bt)-1\n",
    "print(\"start BT\")\n",
    "for i in range(0, btlen):\n",
    "    while(count_n < btlen):\n",
    "        if(bt.ix[count_n, 'Open Price'] - bt.ix[count_n, 'Close Price'] > 0):\n",
    "            bt.ix[count_n, 'fluctuation'] = -1\n",
    "        elif(bt.ix[count_n, 'Open Price'] - bt.ix[count_n, 'Close Price'] < 0):\n",
    "            bt.ix[count_n, 'fluctuation'] = 1\n",
    "        else:\n",
    "            bt.ix[count_n, 'fluctuation'] = 0\n",
    "        count_n += 1    \n",
    "\n",
    "print(\"end BT\")"
   ]
  },
  {
   "cell_type": "code",
   "execution_count": 23,
   "metadata": {
    "collapsed": true
   },
   "outputs": [],
   "source": [
    "eth.to_csv('eth.csv', sep=',')"
   ]
  },
  {
   "cell_type": "code",
   "execution_count": 24,
   "metadata": {
    "collapsed": true
   },
   "outputs": [],
   "source": [
    "bt.to_csv('bt.csv', sep=',')"
   ]
  }
 ],
 "metadata": {
  "kernelspec": {
   "display_name": "Python 3",
   "language": "python",
   "name": "python3"
  },
  "language_info": {
   "codemirror_mode": {
    "name": "ipython",
    "version": 3
   },
   "file_extension": ".py",
   "mimetype": "text/x-python",
   "name": "python",
   "nbconvert_exporter": "python",
   "pygments_lexer": "ipython3",
   "version": "3.6.1"
  }
 },
 "nbformat": 4,
 "nbformat_minor": 2
}
