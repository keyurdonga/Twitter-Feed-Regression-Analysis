{
 "cells": [
  {
   "cell_type": "code",
   "execution_count": 1,
   "metadata": {},
   "outputs": [
    {
     "name": "stderr",
     "output_type": "stream",
     "text": [
      "C:\\Users\\keyur_donga\\Anaconda3\\lib\\site-packages\\statsmodels\\compat\\pandas.py:56: FutureWarning: The pandas.core.datetools module is deprecated and will be removed in a future version. Please use the pandas.tseries module instead.\n",
      "  from pandas.core import datetools\n"
     ]
    }
   ],
   "source": [
    "from __future__ import print_function\n",
    "%matplotlib inline\n",
    "import pandas as pd\n",
    "import matplotlib.pyplot as plt\n",
    "import numpy as np\n",
    "from scipy import stats\n",
    "import seaborn as sns\n",
    "import statsmodels.api as sm\n",
    "from sklearn import linear_model\n",
    "from statsmodels.formula.api import ols\n",
    "from sklearn.linear_model import LinearRegression, Ridge, Lasso\n",
    "from sklearn.preprocessing import PolynomialFeatures\n",
    "from sklearn.pipeline import make_pipeline\n",
    "import warnings\n",
    "import requests\n",
    "import json\n",
    "from time import sleep\n",
    "warnings.filterwarnings('ignore')"
   ]
  },
  {
   "cell_type": "code",
   "execution_count": 4,
   "metadata": {},
   "outputs": [],
   "source": [
    "df1 = pd.read_csv(\"WSentiment-01.csv\", sep=',')\n",
    "df2 = pd.read_csv(\"WSentiment-02.csv\", sep=',')\n",
    "df3 = pd.read_csv(\"WSentiment-03.csv\", sep=',')\n",
    "df26 = pd.read_csv(\"WSentiment-26.csv\", sep=',')\n",
    "df27 = pd.read_csv(\"WSentiment-27.csv\", sep=',')\n",
    "df28 = pd.read_csv(\"WSentiment-28.csv\", sep=',')\n",
    "df29 = pd.read_csv(\"WSentiment-29.csv\", sep=',')\n",
    "df30 = pd.read_csv(\"WSentiment-30.csv\", sep=',')"
   ]
  },
  {
   "cell_type": "code",
   "execution_count": 13,
   "metadata": {},
   "outputs": [
    {
     "name": "stdout",
     "output_type": "stream",
     "text": [
      "<class 'pandas.core.frame.DataFrame'>\n",
      "Int64Index: 74050 entries, 0 to 10181\n",
      "Data columns (total 9 columns):\n",
      "created_at           74050 non-null object\n",
      "favourite_count      74050 non-null object\n",
      "language             74050 non-null object\n",
      "retweet_count        74050 non-null int64\n",
      "tweet                74050 non-null object\n",
      "tweet_id             74036 non-null float64\n",
      "tweet_time           74036 non-null object\n",
      "Sentiment_score      74036 non-null float64\n",
      "w_sentiment_score    74050 non-null float64\n",
      "dtypes: float64(3), int64(1), object(5)\n",
      "memory usage: 5.6+ MB\n"
     ]
    }
   ],
   "source": [
    "frames = [df26, df27, df28, df29, df30, df1, df2, df3]\n",
    "df = pd.concat(frames)\n",
    "df.drop('Unnamed: 0', axis=1, inplace=True)\n",
    "df.drop('user_id', axis=1, inplace=True)\n",
    "df.info()"
   ]
  },
  {
   "cell_type": "code",
   "execution_count": 25,
   "metadata": {},
   "outputs": [
    {
     "name": "stdout",
     "output_type": "stream",
     "text": [
      "<class 'pandas.core.frame.DataFrame'>\n",
      "RangeIndex: 20523 entries, 0 to 20522\n",
      "Data columns (total 9 columns):\n",
      "created_at           20523 non-null object\n",
      "favourite_count      20523 non-null object\n",
      "language             20523 non-null object\n",
      "retweet_count        20523 non-null int64\n",
      "tweet                20523 non-null object\n",
      "tweet_id             20523 non-null float64\n",
      "tweet_time           20523 non-null object\n",
      "Sentiment_score      20523 non-null float64\n",
      "w_sentiment_score    20523 non-null float64\n",
      "dtypes: float64(3), int64(1), object(5)\n",
      "memory usage: 1.4+ MB\n"
     ]
    }
   ],
   "source": [
    "bitcoin = df[df['tweet'].str.contains(\"bitcoin\") | df['tweet'].str.contains(\"btc\") | df['tweet'].str.contains(\"BTC\")]\n",
    "bitcoin = bitcoin.reset_index(drop=True)\n",
    "bitcoin.info()"
   ]
  },
  {
   "cell_type": "code",
   "execution_count": 29,
   "metadata": {},
   "outputs": [
    {
     "name": "stdout",
     "output_type": "stream",
     "text": [
      "<class 'pandas.core.frame.DataFrame'>\n",
      "RangeIndex: 19808 entries, 0 to 19807\n",
      "Data columns (total 9 columns):\n",
      "created_at           19808 non-null object\n",
      "favourite_count      19808 non-null object\n",
      "language             19808 non-null object\n",
      "retweet_count        19808 non-null int64\n",
      "tweet                19808 non-null object\n",
      "tweet_id             19808 non-null float64\n",
      "tweet_time           19808 non-null object\n",
      "Sentiment_score      19808 non-null float64\n",
      "w_sentiment_score    19808 non-null float64\n",
      "dtypes: float64(3), int64(1), object(5)\n",
      "memory usage: 1.4+ MB\n"
     ]
    }
   ],
   "source": [
    "ether = df[df['tweet'].str.contains(\"Ethereum\") | df['tweet'].str.contains(\"eth\") | df['tweet'].str.contains(\"ETH\")]\n",
    "ether = ether.reset_index(drop=True)\n",
    "ether.info()"
   ]
  },
  {
   "cell_type": "code",
   "execution_count": 30,
   "metadata": {},
   "outputs": [
    {
     "name": "stdout",
     "output_type": "stream",
     "text": [
      "<class 'pandas.core.frame.DataFrame'>\n",
      "RangeIndex: 9598 entries, 0 to 9597\n",
      "Data columns (total 9 columns):\n",
      "created_at           9598 non-null object\n",
      "favourite_count      9598 non-null object\n",
      "language             9598 non-null object\n",
      "retweet_count        9598 non-null int64\n",
      "tweet                9598 non-null object\n",
      "tweet_id             9598 non-null float64\n",
      "tweet_time           9598 non-null object\n",
      "Sentiment_score      9598 non-null float64\n",
      "w_sentiment_score    9598 non-null float64\n",
      "dtypes: float64(3), int64(1), object(5)\n",
      "memory usage: 674.9+ KB\n"
     ]
    }
   ],
   "source": [
    "lite = df[df['tweet'].str.contains(\"Litecoin\") | df['tweet'].str.contains(\"ltc\") | df['tweet'].str.contains(\"LTC\")]\n",
    "lite = lite.reset_index(drop=True)\n",
    "lite.info()"
   ]
  },
  {
   "cell_type": "code",
   "execution_count": 27,
   "metadata": {},
   "outputs": [
    {
     "name": "stdout",
     "output_type": "stream",
     "text": [
      "<class 'pandas.core.frame.DataFrame'>\n",
      "RangeIndex: 7536 entries, 0 to 7535\n",
      "Data columns (total 9 columns):\n",
      "created_at           7536 non-null object\n",
      "favourite_count      7536 non-null object\n",
      "language             7536 non-null object\n",
      "retweet_count        7536 non-null int64\n",
      "tweet                7536 non-null object\n",
      "tweet_id             7536 non-null float64\n",
      "tweet_time           7536 non-null object\n",
      "Sentiment_score      7536 non-null float64\n",
      "w_sentiment_score    7536 non-null float64\n",
      "dtypes: float64(3), int64(1), object(5)\n",
      "memory usage: 530.0+ KB\n"
     ]
    }
   ],
   "source": [
    "ripple = df[df['tweet'].str.contains(\"ripple\") | df['tweet'].str.contains(\"Ripple\") | df['tweet'].str.contains(\"XRP\")]\n",
    "ripple = ripple.reset_index(drop=True)\n",
    "ripple.info()"
   ]
  },
  {
   "cell_type": "code",
   "execution_count": 60,
   "metadata": {},
   "outputs": [
    {
     "name": "stdout",
     "output_type": "stream",
     "text": [
      "<class 'pandas.core.frame.DataFrame'>\n",
      "RangeIndex: 166 entries, 0 to 165\n",
      "Data columns (total 6 columns):\n",
      "date           166 non-null datetime64[ns]\n",
      "open           166 non-null float64\n",
      "close          166 non-null float64\n",
      "fluctuation    166 non-null int64\n",
      "sentiment      166 non-null float64\n",
      "w_sentiment    166 non-null float64\n",
      "dtypes: datetime64[ns](1), float64(4), int64(1)\n",
      "memory usage: 7.9 KB\n"
     ]
    }
   ],
   "source": [
    "bitc = pd.read_csv(\"btc.csv\", sep=',')\n",
    "bitc.drop('Unnamed: 0', axis=1, inplace=True)\n",
    "bitc['sentiment'] = 0.0\n",
    "bitc['w_sentiment'] = 0.0\n",
    "bitc['date'] = pd.to_datetime(bitc['date'])\n",
    "ethc = pd.read_csv(\"eth.csv\", sep=',')\n",
    "ethc.drop('Unnamed: 0', axis=1, inplace=True)\n",
    "ethc['sentiment'] = 0.0\n",
    "ethc['w_sentiment'] = 0.0\n",
    "ethc['date'] = pd.to_datetime(ethc['date'])\n",
    "ltcc = pd.read_csv(\"ltc.csv\", sep=',')\n",
    "ltcc.drop('Unnamed: 0', axis=1, inplace=True)\n",
    "ltcc['sentiment'] = 0.0\n",
    "ltcc['w_sentiment'] = 0.0\n",
    "ltcc['date'] = pd.to_datetime(ltcc['date'])\n",
    "ripc = pd.read_csv(\"rp.csv\", sep=',')\n",
    "ripc.drop('Unnamed: 0', axis=1, inplace=True)\n",
    "ripc['sentiment'] = 0.0\n",
    "ripc['w_sentiment'] = 0.0\n",
    "ripc['date'] = pd.to_datetime(ripc['date'])\n",
    "bitc.info()"
   ]
  },
  {
   "cell_type": "code",
   "execution_count": 61,
   "metadata": {},
   "outputs": [
    {
     "name": "stdout",
     "output_type": "stream",
     "text": [
      "                   date      open     close  fluctuation  sentiment  \\\n",
      "0   2017-11-27 00:00:00   9328.25   9571.85            1        0.0   \n",
      "1   2017-11-27 01:00:00   9571.85   9631.21            1        0.0   \n",
      "2   2017-11-27 02:00:00   9631.21   9567.97           -1        0.0   \n",
      "3   2017-11-27 03:00:00   9567.97   9566.98           -1        0.0   \n",
      "4   2017-11-27 04:00:00   9566.98   9673.28            1        0.0   \n",
      "5   2017-11-27 05:00:00   9673.28   9633.78           -1        0.0   \n",
      "6   2017-11-27 06:00:00   9633.78   9641.04            1        0.0   \n",
      "7   2017-11-27 07:00:00   9641.04   9681.14            1        0.0   \n",
      "8   2017-11-27 08:00:00   9681.14   9732.51            1        0.0   \n",
      "9   2017-11-27 09:00:00   9732.51   9508.01           -1        0.0   \n",
      "10  2017-11-27 10:00:00   9508.01   9611.86            1        0.0   \n",
      "11  2017-11-27 11:00:00   9611.86   9650.12            1        0.0   \n",
      "12  2017-11-27 12:00:00   9650.12   9634.78           -1        0.0   \n",
      "13  2017-11-27 13:00:00   9634.78   9630.73           -1        0.0   \n",
      "14  2017-11-27 14:00:00   9630.73   9633.31            1        0.0   \n",
      "15  2017-11-27 15:00:00   9633.31   9650.68            1        0.0   \n",
      "16  2017-11-27 16:00:00   9650.68   9582.86           -1        0.0   \n",
      "17  2017-11-27 17:00:00   9582.86   9570.68           -1        0.0   \n",
      "18  2017-11-27 18:00:00   9570.68   9525.65           -1        0.0   \n",
      "19  2017-11-27 19:00:00   9525.65   9531.10            1        0.0   \n",
      "20  2017-11-27 20:00:00   9531.10   9591.00            1        0.0   \n",
      "21  2017-11-27 21:00:00   9591.00   9650.15            1        0.0   \n",
      "22  2017-11-27 22:00:00   9650.15   9659.00            1        0.0   \n",
      "23  2017-11-27 23:00:00   9659.00   9737.28            1        0.0   \n",
      "24  2017-11-28 00:00:00   9737.28   9707.49           -1        0.0   \n",
      "25  2017-11-28 01:00:00   9707.49   9701.11           -1        0.0   \n",
      "26  2017-11-28 02:00:00   9701.11   9663.61           -1        0.0   \n",
      "27  2017-11-28 03:00:00   9663.61   9713.46            1        0.0   \n",
      "28  2017-11-28 04:00:00   9713.46   9791.60            1        0.0   \n",
      "29  2017-11-28 05:00:00   9791.60   9871.80            1        0.0   \n",
      "..                  ...       ...       ...          ...        ...   \n",
      "136 2017-12-02 18:00:00  10892.58  10951.93            1        0.0   \n",
      "137 2017-12-02 19:00:00  10951.93  10891.07           -1        0.0   \n",
      "138 2017-12-02 20:00:00  10891.07  10934.34            1        0.0   \n",
      "139 2017-12-02 21:00:00  10934.34  11016.47            1        0.0   \n",
      "140 2017-12-02 22:00:00  11016.47  10953.93           -1        0.0   \n",
      "141 2017-12-02 23:00:00  10953.93  10898.12           -1        0.0   \n",
      "142 2017-12-03 00:00:00  10898.12  10878.63           -1        0.0   \n",
      "143 2017-12-03 01:00:00  10878.63  10921.12            1        0.0   \n",
      "144 2017-12-03 02:00:00  10921.12  10932.82            1        0.0   \n",
      "145 2017-12-03 03:00:00  10932.82  10969.36            1        0.0   \n",
      "146 2017-12-03 04:00:00  10969.36  11078.05            1        0.0   \n",
      "147 2017-12-03 05:00:00  11078.05  11056.71           -1        0.0   \n",
      "148 2017-12-03 06:00:00  11056.71  11108.28            1        0.0   \n",
      "149 2017-12-03 07:00:00  11108.28  11162.50            1        0.0   \n",
      "150 2017-12-03 08:00:00  11162.50  11140.13           -1        0.0   \n",
      "151 2017-12-03 09:00:00  11140.13  11102.37           -1        0.0   \n",
      "152 2017-12-03 10:00:00  11102.37  11121.19            1        0.0   \n",
      "153 2017-12-03 11:00:00  11121.19  11551.32            1        0.0   \n",
      "154 2017-12-03 12:00:00  11551.32  11579.64            1        0.0   \n",
      "155 2017-12-03 13:00:00  11579.64  11618.59            1        0.0   \n",
      "156 2017-12-03 14:00:00  11618.59  11591.03           -1        0.0   \n",
      "157 2017-12-03 15:00:00  11591.03  11723.32            1        0.0   \n",
      "158 2017-12-03 16:00:00  11723.32  11664.79           -1        0.0   \n",
      "159 2017-12-03 17:00:00  11664.79  11674.82            1        0.0   \n",
      "160 2017-12-03 18:00:00  11674.82  11720.76            1        0.0   \n",
      "161 2017-12-03 19:00:00  11720.76  11715.56           -1        0.0   \n",
      "162 2017-12-03 20:00:00  11715.56  11386.98           -1        0.0   \n",
      "163 2017-12-03 21:00:00  11386.98  10911.10           -1        0.0   \n",
      "164 2017-12-03 22:00:00  10911.10  11089.20            1        0.0   \n",
      "165 2017-12-03 23:00:00  11089.20  11184.02            1        0.0   \n",
      "\n",
      "     w_sentiment  \n",
      "0            0.0  \n",
      "1            0.0  \n",
      "2            0.0  \n",
      "3            0.0  \n",
      "4            0.0  \n",
      "5            0.0  \n",
      "6            0.0  \n",
      "7            0.0  \n",
      "8            0.0  \n",
      "9            0.0  \n",
      "10           0.0  \n",
      "11           0.0  \n",
      "12           0.0  \n",
      "13           0.0  \n",
      "14           0.0  \n",
      "15           0.0  \n",
      "16           0.0  \n",
      "17           0.0  \n",
      "18           0.0  \n",
      "19           0.0  \n",
      "20           0.0  \n",
      "21           0.0  \n",
      "22           0.0  \n",
      "23           0.0  \n",
      "24           0.0  \n",
      "25           0.0  \n",
      "26           0.0  \n",
      "27           0.0  \n",
      "28           0.0  \n",
      "29           0.0  \n",
      "..           ...  \n",
      "136          0.0  \n",
      "137          0.0  \n",
      "138          0.0  \n",
      "139          0.0  \n",
      "140          0.0  \n",
      "141          0.0  \n",
      "142          0.0  \n",
      "143          0.0  \n",
      "144          0.0  \n",
      "145          0.0  \n",
      "146          0.0  \n",
      "147          0.0  \n",
      "148          0.0  \n",
      "149          0.0  \n",
      "150          0.0  \n",
      "151          0.0  \n",
      "152          0.0  \n",
      "153          0.0  \n",
      "154          0.0  \n",
      "155          0.0  \n",
      "156          0.0  \n",
      "157          0.0  \n",
      "158          0.0  \n",
      "159          0.0  \n",
      "160          0.0  \n",
      "161          0.0  \n",
      "162          0.0  \n",
      "163          0.0  \n",
      "164          0.0  \n",
      "165          0.0  \n",
      "\n",
      "[166 rows x 6 columns]\n"
     ]
    }
   ],
   "source": [
    "print(bitc)"
   ]
  },
  {
   "cell_type": "code",
   "execution_count": 253,
   "metadata": {},
   "outputs": [],
   "source": [
    "mask = (bitcoin['tweet_time'] <= '2017-12-03 18:00') & (bitcoin['tweet_time'] >= '2017-12-03 17:00')\n",
    "bitcoin13 = bitcoin.loc[mask]\n",
    "count_n = 0\n",
    "sentimentTotal = 0 \n",
    "wSentimentTotal = 0 \n",
    "dfLen = len(bitcoin13)\n",
    "print(\"start\")\n",
    "for i in range(0, dfLen):\n",
    "    while(count_n < dfLen):\n",
    "        sentimentTotal += bitcoin.ix[count_n, 'Sentiment_score']\n",
    "        wSentimentTotal += bitcoin.ix[count_n, 'w_sentiment_score']\n",
    "        count_n +=1\n",
    "print(\"end\")\n",
    "sentimentAvg = sentimentTotal/(dfLen)\n",
    "wSentimentAvg = wSentimentTotal/(dfLen)\n",
    "print(sentimentAvg)\n",
    "print(wSentimentAvg)\n",
    "\n",
    "bitc.ix[161, 'sentiment'] = sentimentAvg\n",
    "bitc.ix[161, 'w_sentiment_score'] = wSentimentAvg"
   ]
  },
  {
   "cell_type": "code",
   "execution_count": 229,
   "metadata": {},
   "outputs": [
    {
     "name": "stdout",
     "output_type": "stream",
     "text": [
      "                   date      open     close  fluctuation     sentiment  \\\n",
      "0   2017-11-27 00:00:00   9328.25   9571.85            1  1.350877e-01   \n",
      "1   2017-11-27 01:00:00   9571.85   9631.21            1  0.000000e+00   \n",
      "2   2017-11-27 02:00:00   9631.21   9567.97           -1  0.000000e+00   \n",
      "3   2017-11-27 03:00:00   9567.97   9566.98           -1  0.000000e+00   \n",
      "4   2017-11-27 04:00:00   9566.98   9673.28            1  0.000000e+00   \n",
      "5   2017-11-27 05:00:00   9673.28   9633.78           -1  0.000000e+00   \n",
      "6   2017-11-27 06:00:00   9633.78   9641.04            1  1.000000e-01   \n",
      "7   2017-11-27 07:00:00   9641.04   9681.14            1  1.000000e-01   \n",
      "8   2017-11-27 08:00:00   9681.14   9732.51            1  0.000000e+00   \n",
      "9   2017-11-27 09:00:00   9732.51   9508.01           -1  0.000000e+00   \n",
      "10  2017-11-27 10:00:00   9508.01   9611.86            1  1.000000e-01   \n",
      "11  2017-11-27 11:00:00   9611.86   9650.12            1  1.000000e-01   \n",
      "12  2017-11-27 12:00:00   9650.12   9634.78           -1  1.040834e-17   \n",
      "13  2017-11-27 13:00:00   9634.78   9630.73           -1  8.699187e-02   \n",
      "14  2017-11-27 14:00:00   9630.73   9633.31            1  8.405797e-02   \n",
      "15  2017-11-27 15:00:00   9633.31   9650.68            1  1.333333e-01   \n",
      "16  2017-11-27 16:00:00   9650.68   9582.86           -1  8.225806e-02   \n",
      "17  2017-11-27 17:00:00   9582.86   9570.68           -1  7.910448e-02   \n",
      "18  2017-11-27 18:00:00   9570.68   9525.65           -1  1.082569e-01   \n",
      "19  2017-11-27 19:00:00   9525.65   9531.10            1  6.711409e-02   \n",
      "20  2017-11-27 20:00:00   9531.10   9591.00            1  8.916667e-02   \n",
      "21  2017-11-27 21:00:00   9591.00   9650.15            1  1.101852e-01   \n",
      "22  2017-11-27 22:00:00   9650.15   9659.00            1  0.000000e+00   \n",
      "23  2017-11-27 23:00:00   9659.00   9737.28            1  1.130841e-01   \n",
      "24  2017-11-28 00:00:00   9737.28   9707.49           -1  1.000000e-01   \n",
      "25  2017-11-28 01:00:00   9707.49   9701.11           -1  0.000000e+00   \n",
      "26  2017-11-28 02:00:00   9701.11   9663.61           -1  1.000000e-01   \n",
      "27  2017-11-28 03:00:00   9663.61   9713.46            1  0.000000e+00   \n",
      "28  2017-11-28 04:00:00   9713.46   9791.60            1  0.000000e+00   \n",
      "29  2017-11-28 05:00:00   9791.60   9871.80            1  0.000000e+00   \n",
      "..                  ...       ...       ...          ...           ...   \n",
      "136 2017-12-02 18:00:00  10892.58  10951.93            1  7.925926e-02   \n",
      "137 2017-12-02 19:00:00  10951.93  10891.07           -1  5.857988e-02   \n",
      "138 2017-12-02 20:00:00  10891.07  10934.34            1  7.751938e-02   \n",
      "139 2017-12-02 21:00:00  10934.34  11016.47            1  1.336957e-01   \n",
      "140 2017-12-02 22:00:00  11016.47  10953.93           -1  1.340659e-01   \n",
      "141 2017-12-02 23:00:00  10953.93  10898.12           -1  1.126214e-01   \n",
      "142 2017-12-03 00:00:00  10898.12  10878.63           -1  1.323529e-01   \n",
      "143 2017-12-03 01:00:00  10878.63  10921.12            1  1.337500e-01   \n",
      "144 2017-12-03 02:00:00  10921.12  10932.82            1  1.363636e-01   \n",
      "145 2017-12-03 03:00:00  10932.82  10969.36            1  9.642857e-02   \n",
      "146 2017-12-03 04:00:00  10969.36  11078.05            1  8.916667e-02   \n",
      "147 2017-12-03 05:00:00  11078.05  11056.71           -1  1.363636e-01   \n",
      "148 2017-12-03 06:00:00  11056.71  11108.28            1  1.082569e-01   \n",
      "149 2017-12-03 07:00:00  11108.28  11162.50            1  1.324324e-01   \n",
      "150 2017-12-03 08:00:00  11162.50  11140.13           -1  1.324324e-01   \n",
      "151 2017-12-03 09:00:00  11140.13  11102.37           -1  1.337500e-01   \n",
      "152 2017-12-03 10:00:00  11102.37  11121.19            1  1.333333e-01   \n",
      "153 2017-12-03 11:00:00  11121.19  11551.32            1  1.305556e-01   \n",
      "154 2017-12-03 12:00:00  11551.32  11579.64            1  1.338028e-01   \n",
      "155 2017-12-03 13:00:00  11579.64  11618.59            1  1.226804e-01   \n",
      "156 2017-12-03 14:00:00  11618.59  11591.03           -1  1.082569e-01   \n",
      "157 2017-12-03 15:00:00  11591.03  11723.32            1  8.225806e-02   \n",
      "158 2017-12-03 16:00:00  11723.32  11664.79           -1  7.709924e-02   \n",
      "159 2017-12-03 17:00:00  11664.79  11674.82            1  8.253968e-02   \n",
      "160 2017-12-03 18:00:00  11674.82  11720.76            1  5.930233e-02   \n",
      "161 2017-12-03 19:00:00  11720.76  11715.56           -1  9.180328e-02   \n",
      "162 2017-12-03 20:00:00  11715.56  11386.98           -1  0.000000e+00   \n",
      "163 2017-12-03 21:00:00  11386.98  10911.10           -1  0.000000e+00   \n",
      "164 2017-12-03 22:00:00  10911.10  11089.20            1  0.000000e+00   \n",
      "165 2017-12-03 23:00:00  11089.20  11184.02            1  0.000000e+00   \n",
      "\n",
      "     w_sentiment  w_sentiment_score  \n",
      "0            0.0           0.176316  \n",
      "1            0.0                NaN  \n",
      "2            0.0                NaN  \n",
      "3            0.0                NaN  \n",
      "4            0.0                NaN  \n",
      "5            0.0                NaN  \n",
      "6            0.0           0.175000  \n",
      "7            0.0           0.175000  \n",
      "8            0.0                NaN  \n",
      "9            0.0                NaN  \n",
      "10           0.0           0.175000  \n",
      "11           0.0           0.175000  \n",
      "12           0.0           0.102226  \n",
      "13           0.0           0.113415  \n",
      "14           0.0           0.110507  \n",
      "15           0.0           0.152688  \n",
      "16           0.0           0.110484  \n",
      "17           0.0           0.106343  \n",
      "18           0.0           0.132569  \n",
      "19           0.0           0.093792  \n",
      "20           0.0           0.115208  \n",
      "21           0.0           0.137963  \n",
      "22           0.0                NaN  \n",
      "23           0.0           0.139486  \n",
      "24           0.0           0.175000  \n",
      "25           0.0                NaN  \n",
      "26           0.0           0.175000  \n",
      "27           0.0                NaN  \n",
      "28           0.0                NaN  \n",
      "29           0.0                NaN  \n",
      "..           ...                ...  \n",
      "136          0.0           0.106852  \n",
      "137          0.0           0.088314  \n",
      "138          0.0           0.107364  \n",
      "139          0.0           0.152446  \n",
      "140          0.0           0.152198  \n",
      "141          0.0           0.140291  \n",
      "142          0.0           0.166544  \n",
      "143          0.0           0.156250  \n",
      "144          0.0           0.154830  \n",
      "145          0.0           0.124554  \n",
      "146          0.0           0.115208  \n",
      "147          0.0           0.154830  \n",
      "148          0.0           0.132569  \n",
      "149          0.0           0.159797  \n",
      "150          0.0           0.159797  \n",
      "151          0.0           0.156250  \n",
      "152          0.0           0.160667  \n",
      "153          0.0           0.157986  \n",
      "154          0.0           0.166549  \n",
      "155          0.0           0.146649  \n",
      "156          0.0           0.132569  \n",
      "157          0.0           0.110484  \n",
      "158          0.0           0.104008  \n",
      "159          0.0           0.110516  \n",
      "160          0.0           0.088227  \n",
      "161          0.0           0.116393  \n",
      "162          0.0                NaN  \n",
      "163          0.0                NaN  \n",
      "164          0.0                NaN  \n",
      "165          0.0                NaN  \n",
      "\n",
      "[166 rows x 7 columns]\n"
     ]
    }
   ],
   "source": [
    "print(bitc)"
   ]
  },
  {
   "cell_type": "code",
   "execution_count": 238,
   "metadata": {},
   "outputs": [
    {
     "name": "stdout",
     "output_type": "stream",
     "text": [
      "<class 'pandas.core.frame.DataFrame'>\n",
      "Int64Index: 139 entries, 0 to 161\n",
      "Data columns (total 7 columns):\n",
      "date                 139 non-null datetime64[ns]\n",
      "open                 139 non-null float64\n",
      "close                139 non-null float64\n",
      "fluctuation          139 non-null int64\n",
      "sentiment            139 non-null float64\n",
      "w_sentiment          139 non-null float64\n",
      "w_sentiment_score    139 non-null float64\n",
      "dtypes: datetime64[ns](1), float64(5), int64(1)\n",
      "memory usage: 8.7 KB\n"
     ]
    }
   ],
   "source": [
    "bitc = bitc[np.isfinite(bitc['w_sentiment_score'])]\n",
    "bitc.info()"
   ]
  },
  {
   "cell_type": "code",
   "execution_count": 247,
   "metadata": {},
   "outputs": [
    {
     "data": {
      "text/plain": [
       "LogisticRegression(C=1.0, class_weight=None, dual=False, fit_intercept=True,\n",
       "          intercept_scaling=1, max_iter=100, multi_class='ovr', n_jobs=1,\n",
       "          penalty='l2', random_state=None, solver='liblinear', tol=0.0001,\n",
       "          verbose=0, warm_start=False)"
      ]
     },
     "execution_count": 247,
     "metadata": {},
     "output_type": "execute_result"
    }
   ],
   "source": [
    "from sklearn.cross_validation import train_test_split\n",
    "from sklearn.linear_model import LogisticRegression\n",
    "\n",
    "feature_cols=['w_sentiment_score','open','close']\n",
    "X=bitc[feature_cols]\n",
    "\n",
    "y=bitc['fluctuation']\n",
    "\n",
    "X_train, X_test, y_train, y_test = train_test_split(X, y, test_size=0.50)\n",
    "\n",
    "logreg=LogisticRegression()\n",
    "logreg.fit(X_train,y_train)"
   ]
  },
  {
   "cell_type": "code",
   "execution_count": 248,
   "metadata": {},
   "outputs": [
    {
     "data": {
      "text/plain": [
       "0.98571428571428577"
      ]
     },
     "execution_count": 248,
     "metadata": {},
     "output_type": "execute_result"
    }
   ],
   "source": [
    "logreg.score(X_test,y_test)"
   ]
  }
 ],
 "metadata": {
  "kernelspec": {
   "display_name": "Python 3",
   "language": "python",
   "name": "python3"
  },
  "language_info": {
   "codemirror_mode": {
    "name": "ipython",
    "version": 3
   },
   "file_extension": ".py",
   "mimetype": "text/x-python",
   "name": "python",
   "nbconvert_exporter": "python",
   "pygments_lexer": "ipython3",
   "version": "3.6.1"
  }
 },
 "nbformat": 4,
 "nbformat_minor": 2
}
