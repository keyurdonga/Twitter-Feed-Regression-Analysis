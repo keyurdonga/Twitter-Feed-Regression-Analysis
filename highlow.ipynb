{
 "cells": [
  {
   "cell_type": "code",
   "execution_count": 35,
   "metadata": {
    "collapsed": true
   },
   "outputs": [],
   "source": [
    "from __future__ import print_function\n",
    "%matplotlib inline\n",
    "import pandas as pd\n",
    "import matplotlib.pyplot as plt\n",
    "import numpy as np\n",
    "from scipy import stats\n",
    "import seaborn as sns\n",
    "import statsmodels.api as sm\n",
    "from sklearn import linear_model\n",
    "from statsmodels.formula.api import ols\n",
    "from sklearn.linear_model import LinearRegression, Ridge, Lasso\n",
    "from sklearn.preprocessing import PolynomialFeatures\n",
    "from sklearn.pipeline import make_pipeline\n",
    "import warnings\n",
    "import requests\n",
    "import json\n",
    "import datetime\n",
    "from time import sleep\n",
    "warnings.filterwarnings('ignore')"
   ]
  },
  {
   "cell_type": "code",
   "execution_count": 45,
   "metadata": {},
   "outputs": [
    {
     "name": "stdout",
     "output_type": "stream",
     "text": [
      "<class 'pandas.core.frame.DataFrame'>\n",
      "RangeIndex: 278 entries, 0 to 277\n",
      "Data columns (total 5 columns):\n",
      "time           278 non-null int64\n",
      " open          278 non-null float64\n",
      "close          278 non-null float64\n",
      "fluctuation    0 non-null float64\n",
      "date           278 non-null object\n",
      "dtypes: float64(3), int64(1), object(1)\n",
      "memory usage: 10.9+ KB\n"
     ]
    }
   ],
   "source": [
    "eth = pd.read_csv(\"Ether-chart.csv\", sep=',')\n",
    "eth['date'] = ' '\n",
    "eth.info()\n",
    "#eth['close'] = eth['close'].astype('float64') "
   ]
  },
  {
   "cell_type": "code",
   "execution_count": null,
   "metadata": {
    "collapsed": true
   },
   "outputs": [],
   "source": []
  },
  {
   "cell_type": "code",
   "execution_count": 58,
   "metadata": {},
   "outputs": [
    {
     "name": "stdout",
     "output_type": "stream",
     "text": [
      "<class 'pandas.core.frame.DataFrame'>\n",
      "RangeIndex: 261 entries, 0 to 260\n",
      "Data columns (total 4 columns):\n",
      "date           261 non-null object\n",
      "open           261 non-null float64\n",
      "close          261 non-null float64\n",
      "fluctuation    261 non-null int64\n",
      "dtypes: float64(2), int64(1), object(1)\n",
      "memory usage: 8.2+ KB\n"
     ]
    }
   ],
   "source": [
    "btc = pd.read_csv(\"Bitcoin-chart.csv\", sep=',')\n",
    "btc['fluctuation'] = 0\n",
    "btc.info()"
   ]
  },
  {
   "cell_type": "code",
   "execution_count": 49,
   "metadata": {},
   "outputs": [
    {
     "name": "stdout",
     "output_type": "stream",
     "text": [
      "<class 'pandas.core.frame.DataFrame'>\n",
      "RangeIndex: 93 entries, 0 to 92\n",
      "Data columns (total 5 columns):\n",
      "time           93 non-null int64\n",
      " open          93 non-null float64\n",
      "close          93 non-null float64\n",
      "fluctuation    0 non-null float64\n",
      "date           93 non-null object\n",
      "dtypes: float64(3), int64(1), object(1)\n",
      "memory usage: 3.7+ KB\n"
     ]
    }
   ],
   "source": [
    "ltc = pd.read_csv(\"Litecoin-chart.csv\", sep=',')\n",
    "ltc['date'] = ' '\n",
    "ltc.info()"
   ]
  },
  {
   "cell_type": "code",
   "execution_count": 50,
   "metadata": {},
   "outputs": [
    {
     "name": "stdout",
     "output_type": "stream",
     "text": [
      "<class 'pandas.core.frame.DataFrame'>\n",
      "RangeIndex: 46 entries, 0 to 45\n",
      "Data columns (total 5 columns):\n",
      "time           46 non-null int64\n",
      " open          46 non-null float64\n",
      "close          46 non-null float64\n",
      "fluctuation    0 non-null float64\n",
      "date           46 non-null object\n",
      "dtypes: float64(3), int64(1), object(1)\n",
      "memory usage: 1.9+ KB\n"
     ]
    }
   ],
   "source": [
    "rp = pd.read_csv(\"Ripple-chart.csv\", sep=',')\n",
    "rp['date'] = ' '\n",
    "rp.info()"
   ]
  },
  {
   "cell_type": "code",
   "execution_count": 46,
   "metadata": {},
   "outputs": [
    {
     "name": "stdout",
     "output_type": "stream",
     "text": [
      "start ETH\n",
      "end ETH\n"
     ]
    }
   ],
   "source": [
    "count_n = 0\n",
    "ethlen = len(eth)-1\n",
    "print(\"start ETH\")\n",
    "for i in range(0, ethlen):\n",
    "    while(count_n < ethlen):\n",
    "        temp = eth.ix[count_n, 'time'] \n",
    "        if(eth.ix[count_n, ' open'] - eth.ix[count_n, 'close'] > 0):\n",
    "            eth.ix[count_n, 'fluctuation'] = -1\n",
    "        elif(eth.ix[count_n, ' open'] - eth.ix[count_n, 'close'] < 0):\n",
    "            eth.ix[count_n, 'fluctuation'] = 1\n",
    "        else:\n",
    "            eth.ix[count_n, 'fluctuation'] = 0\n",
    "        count_n += 1\n",
    "        eth.ix[count_n, 'date'] = str(datetime.datetime.fromtimestamp(\n",
    "                                        int(temp)\n",
    "                                    ).strftime('%Y-%m-%d %H:%M:%S'))\n",
    "\n",
    "print(\"end ETH\")"
   ]
  },
  {
   "cell_type": "code",
   "execution_count": 59,
   "metadata": {},
   "outputs": [
    {
     "name": "stdout",
     "output_type": "stream",
     "text": [
      "start btc\n",
      "end btc\n"
     ]
    }
   ],
   "source": [
    "count_n = 0\n",
    "btclen = len(btc)-1\n",
    "print(\"start btc\")\n",
    "for i in range(0, btclen):\n",
    "    while(count_n < btclen):\n",
    "        if(btc.ix[count_n, 'open'] - btc.ix[count_n, 'close'] > 0):\n",
    "            btc.ix[count_n, 'fluctuation'] = -1\n",
    "        elif(btc.ix[count_n, 'open'] - btc.ix[count_n, 'close'] < 0):\n",
    "            btc.ix[count_n, 'fluctuation'] = 1\n",
    "        else:\n",
    "            btc.ix[count_n, 'fluctuation'] = 0\n",
    "        count_n += 1\n",
    "\n",
    "print(\"end btc\")"
   ]
  },
  {
   "cell_type": "code",
   "execution_count": 52,
   "metadata": {},
   "outputs": [
    {
     "name": "stdout",
     "output_type": "stream",
     "text": [
      "start ltc\n",
      "end ltc\n"
     ]
    }
   ],
   "source": [
    "count_n = 0\n",
    "ltclen = len(ltc)-1\n",
    "print(\"start ltc\")\n",
    "for i in range(0, ltclen):\n",
    "    while(count_n < ltclen):\n",
    "        if(ltc.ix[count_n, ' open'] - ltc.ix[count_n, 'close'] > 0):\n",
    "            ltc.ix[count_n, 'fluctuation'] = -1\n",
    "        elif(ltc.ix[count_n, ' open'] - ltc.ix[count_n, 'close'] < 0):\n",
    "            ltc.ix[count_n, 'fluctuation'] = 1\n",
    "        else:\n",
    "            ltc.ix[count_n, 'fluctuation'] = 0\n",
    "        count_n += 1\n",
    "        temp = ltc.ix[count_n, 'time'] \n",
    "        ltc.ix[count_n, 'date'] = str(datetime.datetime.fromtimestamp(\n",
    "                                        int(temp)\n",
    "                                    ).strftime('%Y-%m-%d %H:%M:%S'))\n",
    "\n",
    "print(\"end ltc\")"
   ]
  },
  {
   "cell_type": "code",
   "execution_count": 53,
   "metadata": {},
   "outputs": [
    {
     "name": "stdout",
     "output_type": "stream",
     "text": [
      "start rp\n",
      "end rp\n"
     ]
    }
   ],
   "source": [
    "count_n = 0\n",
    "rplen = len(rp)-1\n",
    "print(\"start rp\")\n",
    "for i in range(0, rplen):\n",
    "    while(count_n < rplen):\n",
    "        if(rp.ix[count_n, ' open'] - rp.ix[count_n, 'close'] > 0):\n",
    "            rp.ix[count_n, 'fluctuation'] = -1\n",
    "        elif(rp.ix[count_n, ' open'] - rp.ix[count_n, 'close'] < 0):\n",
    "            rp.ix[count_n, 'fluctuation'] = 1\n",
    "        else:\n",
    "            rp.ix[count_n, 'fluctuation'] = 0\n",
    "        count_n += 1\n",
    "        temp = rp.ix[count_n, 'time'] \n",
    "        rp.ix[count_n, 'date'] = str(datetime.datetime.fromtimestamp(\n",
    "                                        int(temp)\n",
    "                                    ).strftime('%Y-%m-%d %H:%M:%S'))\n",
    "\n",
    "print(\"end rp\")"
   ]
  },
  {
   "cell_type": "code",
   "execution_count": 47,
   "metadata": {
    "collapsed": true
   },
   "outputs": [],
   "source": [
    "eth.to_csv('eth.csv', sep=',')"
   ]
  },
  {
   "cell_type": "code",
   "execution_count": 60,
   "metadata": {
    "collapsed": true
   },
   "outputs": [],
   "source": [
    "btc.to_csv('btc.csv', sep=',')"
   ]
  },
  {
   "cell_type": "code",
   "execution_count": 55,
   "metadata": {
    "collapsed": true
   },
   "outputs": [],
   "source": [
    "ltc.to_csv('ltc.csv', sep=',')"
   ]
  },
  {
   "cell_type": "code",
   "execution_count": 56,
   "metadata": {
    "collapsed": true
   },
   "outputs": [],
   "source": [
    "rp.to_csv('rp.csv', sep=',')"
   ]
  }
 ],
 "metadata": {
  "kernelspec": {
   "display_name": "Python 3",
   "language": "python",
   "name": "python3"
  },
  "language_info": {
   "codemirror_mode": {
    "name": "ipython",
    "version": 3
   },
   "file_extension": ".py",
   "mimetype": "text/x-python",
   "name": "python",
   "nbconvert_exporter": "python",
   "pygments_lexer": "ipython3",
   "version": "3.6.1"
  }
 },
 "nbformat": 4,
 "nbformat_minor": 2
}
